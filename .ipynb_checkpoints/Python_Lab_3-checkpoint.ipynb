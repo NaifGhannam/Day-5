{
 "cells": [
  {
   "cell_type": "markdown",
   "metadata": {},
   "source": [
    "# Python_Lab_3\n"
   ]
  },
  {
   "cell_type": "markdown",
   "metadata": {},
   "source": [
    "### Task 1\n",
    "- Write a function named **'create_student_records'** that takes a list of tuples. Each tuple contains a student's name and their scores in three subjects. The function should return a list of dictionaries, where each dictionary represents a student with keys: name, subject1, subject2, subject3. Use list comprehension to create the list of dictionaries."
   ]
  },
  {
   "cell_type": "code",
   "execution_count": 12,
   "metadata": {},
   "outputs": [
    {
     "name": "stdout",
     "output_type": "stream",
     "text": [
      "[{'name': 'Naif', 'subject1': 89, 'subject2': 90, 'subject3': 71}, {'name': 'turky', 'subject1': 85, 'subject2': 70, 'subject3': 91}, {'name': 'fahad', 'subject1': 99, 'subject2': 60, 'subject3': 81}, {'name': 'ali', 'subject1': 56, 'subject2': 90, 'subject3': 98}]\n"
     ]
    }
   ],
   "source": [
    "# write your code here ^_^\n",
    "student_records=[(\"Naif\",89,90,71),(\"turky\",85,70,91),(\"fahad\",99,60,81),(\"ali\",56,90,98)]\n",
    "def create_student_records(student_records):\n",
    "    return [ {\"name\":name, \"subject1\":subject1 , \"subject2\":subject2, \"subject3\": subject3} for name, subject1, subject2, subject3 in student_records ]\n",
    "\n",
    "\n",
    "res=create_student_records(student_info)\n",
    "print(res)"
   ]
  },
  {
   "cell_type": "markdown",
   "metadata": {},
   "source": [
    "### Task 2\n",
    "- Write a function named **'filter_and_sort_students'** that takes the list of dictionaries from Question 1 and returns a sorted list of student names who have an average score of 80 or more across all subjects. Sort the names in alphabetical order."
   ]
  },
  {
   "cell_type": "code",
   "execution_count": 69,
   "metadata": {},
   "outputs": [
    {
     "name": "stdout",
     "output_type": "stream",
     "text": [
      "['ali', 'naif', 'turky']\n"
     ]
    }
   ],
   "source": [
    "# write your code here ^_^\n",
    "student_records = [{'name': 'naif', 'subject1': 89, 'subject2': 80, 'subject3': 91}, {'name': 'turky', 'subject1': 85, 'subject2': 70, 'subject3': 91}, {'name': 'fahad', 'subject1': 99, 'subject2': 60, 'subject3': 81}, {'name': 'ali', 'subject1': 56, 'subject2': 90, 'subject3': 98}]\n",
    "def filter_and_sort_students(student_records):\n",
    "    student_average = [(student['name'], (student['subject1'] + student['subject2'] + student['subject3']) / 3) for student in student_records]\n",
    "\n",
    "    strong_student = [name for name , avrg in student_average if avrg >80 ]\n",
    "    strong_student.sort()\n",
    "    return strong_student\n",
    "    \n",
    "\n",
    "\n",
    "\n",
    "\n",
    "    \n",
    "f=filter_and_sort_students(student_records)\n",
    "print(f)"
   ]
  },
  {
   "cell_type": "markdown",
   "metadata": {},
   "source": [
    "### Task 3\n",
    "- Write a function named **'get_product_info'** that prompts the user to enter information about a product. The function should ask for the product name, product price, and product quantity. If the user enters an invalid input (e.g., a non-numeric value for the price or quantity), the function should handle the error and prompt the user to enter the value again. Return a dictionary containing the product information."
   ]
  },
  {
   "cell_type": "code",
   "execution_count": 75,
   "metadata": {},
   "outputs": [
    {
     "name": "stdin",
     "output_type": "stream",
     "text": [
      "Enter prodect name :  any\n",
      "Enter prodect price :  100\n",
      "Enter prodect quantity :  2\n"
     ]
    },
    {
     "name": "stdout",
     "output_type": "stream",
     "text": [
      "{'name': 'any', 'price': 100.0, 'quantity': 2}\n"
     ]
    }
   ],
   "source": [
    "def get_product_info():\n",
    "    while True :\n",
    "        try :\n",
    "            \n",
    "            name=input(\"Enter prodect name : \")\n",
    "            price=float(input(\"Enter prodect price : \"))\n",
    "            quantity=int(input(\"Enter prodect quantity : \"))\n",
    "\n",
    "            product_info={\"name\":name , \"price\" : price , \"quantity\" : quantity}\n",
    "            return product_info\n",
    "        except ValueError:\n",
    "            print(\"non-numeric value for the price or quantity \")\n",
    "\n",
    "                \n",
    "h=get_product_info()\n",
    "print(h)\n",
    "\n",
    "    "
   ]
  },
  {
   "cell_type": "markdown",
   "metadata": {},
   "source": [
    "### Task 4\n",
    "- Write a function named **'get_even_numbers'** that takes a list of integers and returns a list of even numbers using list comprehension."
   ]
  },
  {
   "cell_type": "code",
   "execution_count": 83,
   "metadata": {},
   "outputs": [
    {
     "name": "stdout",
     "output_type": "stream",
     "text": [
      "[46, 90, 20, 64]\n"
     ]
    }
   ],
   "source": [
    "# write your code here ^_^\n",
    "list_of_num=[1,23,46,87,43,90,20,64]\n",
    "def get_even_numbers(list):\n",
    "    return [i for i in list if i%2==0]\n",
    "\n",
    "e=get_even_numbers(list_of_num)\n",
    "print(e)"
   ]
  },
  {
   "cell_type": "markdown",
   "metadata": {},
   "source": [
    "### Task 5\n",
    "- Write a function named **'pair_elements'** that takes two lists of equal length as parameters and returns a list of tuples, where each tuple contains corresponding elements from the two lists. Use the zip function to achieve this."
   ]
  },
  {
   "cell_type": "code",
   "execution_count": 89,
   "metadata": {},
   "outputs": [
    {
     "name": "stdout",
     "output_type": "stream",
     "text": [
      "[('turky', 100), ('noor', 99), ('ahmad', 98)]\n"
     ]
    }
   ],
   "source": [
    "list1=[\"turky\",\"noor\",\"ahmad\"]\n",
    "list2=[100,99,98]\n",
    "def pair_elements(list1,list2):\n",
    "    ss=list(zip(list1,list2))\n",
    "    return ss\n",
    "\n",
    "d=pair_elements(list1,list2)\n",
    "print(d)"
   ]
  },
  {
   "cell_type": "markdown",
   "metadata": {},
   "source": [
    "### Task 6\n",
    "- Write a function named **'square_dict_lambda'** that takes a list of integers and returns a dictionary where the keys are the integers and the values are their squares. Use a lambda function within a dictionary comprehension to achieve this."
   ]
  },
  {
   "cell_type": "code",
   "execution_count": 97,
   "metadata": {},
   "outputs": [
    {
     "name": "stdout",
     "output_type": "stream",
     "text": [
      "{2: 4, 3: 9, 4: 16, 5: 25, 7: 49, 9: 81}\n"
     ]
    }
   ],
   "source": [
    "# write your code here ^_^\n",
    "def square_dice_lambda(list_of_num):\n",
    "    return {num :(num**2) for num in list_of_num}\n",
    "list=[2,3,4,5,7,9]\n",
    "s=square_dice_lambda(list)\n",
    "print(s)\n"
   ]
  },
  {
   "cell_type": "code",
   "execution_count": 95,
   "metadata": {},
   "outputs": [
    {
     "name": "stdout",
     "output_type": "stream",
     "text": [
      "{2: 4, 3: 9, 4: 16, 5: 25, 7: 49, 9: 81}\n"
     ]
    }
   ],
   "source": []
  },
  {
   "cell_type": "code",
   "execution_count": null,
   "metadata": {},
   "outputs": [],
   "source": []
  }
 ],
 "metadata": {
  "kernelspec": {
   "display_name": "Python 3 (ipykernel)",
   "language": "python",
   "name": "python3"
  },
  "language_info": {
   "codemirror_mode": {
    "name": "ipython",
    "version": 3
   },
   "file_extension": ".py",
   "mimetype": "text/x-python",
   "name": "python",
   "nbconvert_exporter": "python",
   "pygments_lexer": "ipython3",
   "version": "3.12.4"
  }
 },
 "nbformat": 4,
 "nbformat_minor": 4
}
