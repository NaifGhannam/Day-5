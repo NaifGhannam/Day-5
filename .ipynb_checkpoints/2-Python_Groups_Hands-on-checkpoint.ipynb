{
 "cells": [
  {
   "cell_type": "markdown",
   "metadata": {
    "id": "kZXiW0-J0-2x"
   },
   "source": [
    "# Python_Groups_Hands-on\n"
   ]
  },
  {
   "cell_type": "markdown",
   "metadata": {
    "id": "I05A6_S80-2y"
   },
   "source": [
    "## Project: Library Management System\n",
    "### Description:\n",
    "- Develop a basic Library Management System (LMS) that allows users to manage book records, including adding, updating, deleting, and displaying book information. The system should also provide basic statistical analysis.\n",
    "\n",
    "### System requirements:\n",
    "\n",
    "#### Data Structure Design:\n",
    "\n",
    "  - Define data structures using lists, tuples, dictionaries, and sets to store book information (e.g., book ID, title, author, year, genres).\n",
    "\n",
    "#### Basic Operations:\n",
    "\n",
    "- Implement functions to add, update, delete, and display book records.\n",
    "- Ensure proper type conversion and validation of inputs.\n",
    "\n",
    "#### Statistical Analysis:\n",
    "\n",
    "- Write functions to calculate and display the total number of books, the average publication year, and the most common genre.\n",
    "- Use list comprehensions and built-in functions (sort, len, zip, range) for calculations.\n",
    "\n",
    "#### Advanced Features:\n",
    "\n",
    "- Implement search functionality to find books by title or author using lambda functions.\n",
    "- Provide sorting options for book records based on different criteria (e.g., title, year).\n",
    "\n",
    "\n",
    "#### Exception Handling:\n",
    "\n",
    "- Handle potential errors (e.g., invalid input) using try-except blocks."
   ]
  },
  {
   "cell_type": "markdown",
   "metadata": {
    "id": "rXuH9y0_D76o"
   },
   "source": [
    "#### Q1: Using the following table, create a function to add these books to your library:\n",
    "\n",
    "\n",
    "\n",
    "| Book ID | Title                            | Author               | Year | Genres                              |\n",
    "|---------|----------------------------------|----------------------|------|-------------------------------------|\n",
    "| 1       | Harry Potter and the Sorcerer's Stone | J.K. Rowling         | 1997 | Fantasy, Young Adult                |\n",
    "| 2       | To Kill a Mockingbird             | Harper Lee           | 1960 | Fiction, Classics                   |\n",
    "| 3       | The Great Gatsby                  | F. Scott Fitzgerald  | 1925 | Fiction, Classics                   |\n",
    "| 4       | 1984                              | George Orwell        | 1949 | Fiction, Dystopian                  |\n",
    "| 5       | The Catcher in the Rye            | J.D. Salinger        | 1951 | Fiction, Classics                   |\n",
    "| 6       | Pride and Prejudice               | Jane Austen          | 1813 | Fiction, Romance, Classics          |\n",
    "| 7       | The Hobbit                        | J.R.R. Tolkien       | 1937 | Fantasy, Adventure                  |\n",
    "| 8       | The Hunger Games                  | Suzanne Collins      | 2008 | Science Fiction, Dystopian, Young Adult |\n",
    "| 9       | The Da Vinci Code                 | Dan Brown            | 2003 | Mystery, Thriller                   |\n",
    "| 10      | The Chronicles of Narnia          | C.S. Lewis           | 1950 | Fantasy, Children's Literature      |\n",
    "| 11      | Gone with the Wind                | Margaret Mitchell    | 1936 | Historical Fiction, Romance         |\n",
    "| 12      | Sapiens: A Brief History of Humankind | Yuval Noah Harari   | 2011 | Nonfiction, History, Science        |\n",
    "| 13      | The Road                          | Cormac McCarthy      | 2006 | Fiction, Post-Apocalyptic           |\n",
    "| 14      | The Girl with the Dragon Tattoo   | Stieg Larsson        | 2005 | Mystery, Thriller                   |\n",
    "| 15      | The Alchemist                     | Paulo Coelho         | 1988 | Fiction, Inspirational              |\n"
   ]
  },
  {
   "cell_type": "code",
   "execution_count": 109,
   "metadata": {
    "id": "BzV_B_g20-2z"
   },
   "outputs": [
    {
     "name": "stdout",
     "output_type": "stream",
     "text": [
      "{1: {'Title': \"Harry Potter and the Sorcerer's Stone\", 'Author': 'J.K. Rowling', 'Years': '1997', 'Genres': 'Fantasy, Young Adult'}, 2: {'Title': 'To Kill a Mockingbird', 'Author': 'Harper Lee', 'Years': '1960', 'Genres': 'Fiction, Classics'}, 3: {'Title': 'The Great Gatsby', 'Author': 'F. Scott Fitzgerald', 'Years': '1925', 'Genres': 'Fiction, Classics'}, 4: {'Title': '1984', 'Author': 'George Orwell', 'Years': '1949', 'Genres': 'Fiction, Classics'}, 5: {'Title': 'The Catcher in the Rye', 'Author': 'J.D. Salinger', 'Years': '1951', 'Genres': 'Fiction, Classics'}}\n"
     ]
    }
   ],
   "source": [
    "dict_of_book = {}\n",
    "\n",
    "def add_books(book_id, title, author, years, genres):\n",
    "    dict_of_book[book_id] = {\n",
    "    \n",
    "        \"Title\": title,\n",
    "        \"Author\": author,\n",
    "        \"Years\": years,\n",
    "        \"Genres\": genres\n",
    "    }\n",
    "\n",
    "add_books(1, \"Harry Potter and the Sorcerer's Stone\", \"J.K. Rowling\", \"1997\", \"Fantasy, Young Adult\")\n",
    "add_books(2, \"To Kill a Mockingbird\", \"Harper Lee\", \"1960\", \"Fiction, Classics\")\n",
    "add_books(3, \"The Great Gatsby\", \"F. Scott Fitzgerald\", \"1925\", \"Fiction, Classics\")\n",
    "add_books(4, \"1984\", \"George Orwell\", \"1949\", \"Fiction, Classics\")\n",
    "add_books(5, \"The Catcher in the Rye\", \"J.D. Salinger\", \"1951\", \"Fiction, Classics\")\n",
    "\n",
    "print(dict_of_book)"
   ]
  },
  {
   "cell_type": "markdown",
   "metadata": {
    "id": "kR5bvgOsF3oJ"
   },
   "source": [
    "#### Q2: Create a function that updates books exsisted in your library and test it.\n",
    "- **Note**: If the user entered wrong book ID it should print \"Book with ID 'num' does not exist."
   ]
  },
  {
   "cell_type": "code",
   "execution_count": 99,
   "metadata": {
    "id": "U60cFkbUUYmj"
   },
   "outputs": [
    {
     "name": "stdout",
     "output_type": "stream",
     "text": [
      "[{'Book id': 90, 'Title': 'Harry Potter and the Chamber of Secrets', 'Author': 'J.K. Rowling', 'Years': '1996', 'Genres': 'Fantasy, Young Adult'}, {'Book id': 2, 'Title': 'To Kill a Mockingbird', 'Author': 'Harper Lee', 'Years': '1960', 'Genres': 'Fiction, Classics'}, {'Book id': 3, 'Title': 'The Great Gatsby', 'Author': 'F. Scott Fitzgerald', 'Years': '1925', 'Genres': 'Fiction, Classics'}, {'Book id': 90, 'Title': 'Harry Potter and the Chamber of Secrets', 'Author': 'naif', 'Years': '1996', 'Genres': 'Fiction, Dystopian'}]\n"
     ]
    }
   ],
   "source": [
    "def update_books(book_id, new_book_info):\n",
    "    if book_id in dict_of_book:\n",
    "        dict_of_book[book_id].update(new_book_info)\n",
    "    else:\n",
    "        print(f\"Book with ID {book_id} does not exist\")\n",
    "\n",
    "# Example usage\n",
    "update_books(1, {\"Title\": \"Harry Potter and the Chamber of Secrets\", \"Years\": \"1999\"})\n",
    "print(dict_of_book)"
   ]
  },
  {
   "cell_type": "markdown",
   "metadata": {
    "id": "ME3j_m-eLhyH"
   },
   "source": [
    "#### Q3: Create a function to delete books from your library and test it."
   ]
  },
  {
   "cell_type": "code",
   "execution_count": 113,
   "metadata": {
    "id": "JlGIx-gJUadK"
   },
   "outputs": [
    {
     "name": "stdin",
     "output_type": "stream",
     "text": [
      "Enter the Book ID:  999\n"
     ]
    },
    {
     "name": "stdout",
     "output_type": "stream",
     "text": [
      "Book with ID 999 not found.\n",
      "{1: {'Title': \"Harry Potter and the Sorcerer's Stone\", 'Author': 'J.K. Rowling', 'Years': '1997', 'Genres': 'Fantasy, Young Adult'}, 2: {'Title': 'To Kill a Mockingbird', 'Author': 'Harper Lee', 'Years': '1960', 'Genres': 'Fiction, Classics'}, 3: {'Title': 'The Great Gatsby', 'Author': 'F. Scott Fitzgerald', 'Years': '1925', 'Genres': 'Fiction, Classics'}, 4: {'Title': '1984', 'Author': 'George Orwell', 'Years': '1949', 'Genres': 'Fiction, Classics'}, 5: {'Title': 'The Catcher in the Rye', 'Author': 'J.D. Salinger', 'Years': '1951', 'Genres': 'Fiction, Classics'}}\n"
     ]
    }
   ],
   "source": [
    "def remove_book(book_id):\n",
    "    if book_id in dict_of_book:\n",
    "        del dict_of_book[book_id]\n",
    "    else:\n",
    "        print(f\"Book with ID {book_id} not found.\")\n",
    "\n",
    "inp = int(input(\"Enter the Book ID: \"))  \n",
    "remove_book(inp)\n",
    "\n",
    "print(dict_of_book)"
   ]
  },
  {
   "cell_type": "markdown",
   "metadata": {
    "id": "MIamnChwNgFr"
   },
   "source": [
    "#### Q4: Create a function that displays books information from your library and test it."
   ]
  },
  {
   "cell_type": "code",
   "execution_count": 123,
   "metadata": {
    "id": "xFNIK3YvUbz5"
   },
   "outputs": [
    {
     "name": "stdout",
     "output_type": "stream",
     "text": [
      "Book ID: 1\n",
      "  Title: Harry Potter and the Sorcerer's Stone\n",
      "  Author: J.K. Rowling\n",
      "  Years: 1997\n",
      "  Genres: Fantasy, Young Adult\n",
      "\n",
      "Book ID: 2\n",
      "  Title: To Kill a Mockingbird\n",
      "  Author: Harper Lee\n",
      "  Years: 1960\n",
      "  Genres: Fiction, Classics\n",
      "\n",
      "Book ID: 3\n",
      "  Title: The Great Gatsby\n",
      "  Author: F. Scott Fitzgerald\n",
      "  Years: 1925\n",
      "  Genres: Fiction, Classics\n",
      "\n",
      "Book ID: 4\n",
      "  Title: 1984\n",
      "  Author: George Orwell\n",
      "  Years: 1949\n",
      "  Genres: Fiction, Classics\n",
      "\n",
      "Book ID: 5\n",
      "  Title: The Catcher in the Rye\n",
      "  Author: J.D. Salinger\n",
      "  Years: 1951\n",
      "  Genres: Fiction, Classics\n",
      "\n"
     ]
    }
   ],
   "source": [
    "def display_books():\n",
    "         for book_id in dict_of_book:\n",
    "            book_info = dict_of_book[book_id]\n",
    "            print(f\"Book ID: {book_id}\")\n",
    "            print(f\"  Title: {book_info['Title']}\")\n",
    "            print(f\"  Author: {book_info['Author']}\")\n",
    "            print(f\"  Years: {book_info['Years']}\")\n",
    "            print(f\"  Genres: {book_info['Genres']}\")\n",
    "            print()  \n",
    "       \n",
    "\n",
    "display_books()"
   ]
  },
  {
   "cell_type": "markdown",
   "metadata": {
    "id": "OvfdKdBqNt22"
   },
   "source": [
    "#### Q5: Create functions to do the following: calculates and display the total number of books, the average publication year, and the most common genre. and test it."
   ]
  },
  {
   "cell_type": "code",
   "execution_count": 125,
   "metadata": {
    "id": "mWg5eHIWUcsU"
   },
   "outputs": [
    {
     "data": {
      "text/plain": [
       "5"
      ]
     },
     "execution_count": 125,
     "metadata": {},
     "output_type": "execute_result"
    }
   ],
   "source": [
    "def totla_books(n):\n",
    "    return len(n)\n",
    "\n",
    "totla_books(dict_of_book)"
   ]
  },
  {
   "cell_type": "markdown",
   "metadata": {
    "id": "IuVLtf7dQaUW"
   },
   "source": [
    "#### Q6: Create 2 functions to search for books by the title and the author from your library and test it."
   ]
  },
  {
   "cell_type": "code",
   "execution_count": 183,
   "metadata": {
    "id": "7LnwRJLCUe3p"
   },
   "outputs": [],
   "source": [
    "def search_by_title(title):\n",
    "    for book_id, book_info in dict_of_book.items():\n",
    "        if book_info[\"Title\"] == title:\n",
    "            return book_info\n",
    "    return None\n",
    "\n",
    "def search_by_author(author):\n",
    "    results = []\n",
    "    for book_id, book_info in dict_of_book.items():\n",
    "        if book_info[\"Author\"] == author:\n",
    "            results.append(book_info)\n",
    "    if results:\n",
    "        return results\n",
    "    else:\n",
    "        return None\n",
    "\n",
    "search_by_title(\"1984\")"
   ]
  },
  {
   "cell_type": "markdown",
   "metadata": {
    "id": "fAu2ozKBQzJu"
   },
   "source": [
    "#### Q7: Create 2 functions to sort the books by the title and the year from your library and test it."
   ]
  },
  {
   "cell_type": "code",
   "execution_count": 193,
   "metadata": {
    "id": "X4PyuHTMUgHl"
   },
   "outputs": [
    {
     "data": {
      "text/plain": [
       "[{'Title': 'The Great Gatsby',\n",
       "  'Author': 'F. Scott Fitzgerald',\n",
       "  'Years': '1925',\n",
       "  'Genres': 'Fiction, Classics'},\n",
       " {'Title': '1984',\n",
       "  'Author': 'George Orwell',\n",
       "  'Years': '1949',\n",
       "  'Genres': 'Fiction, Classics'},\n",
       " {'Title': 'The Catcher in the Rye',\n",
       "  'Author': 'J.D. Salinger',\n",
       "  'Years': '1951',\n",
       "  'Genres': 'Fiction, Classics'},\n",
       " {'Title': 'To Kill a Mockingbird',\n",
       "  'Author': 'Harper Lee',\n",
       "  'Years': '1960',\n",
       "  'Genres': 'Fiction, Classics'},\n",
       " {'Title': \"Harry Potter and the Sorcerer's Stone\",\n",
       "  'Author': 'J.K. Rowling',\n",
       "  'Years': '1997',\n",
       "  'Genres': 'Fantasy, Young Adult'}]"
      ]
     },
     "execution_count": 193,
     "metadata": {},
     "output_type": "execute_result"
    }
   ],
   "source": [
    "def sort_books_by_title():\n",
    "    sorted_books = sorted(dict_of_book.values(), key=lambda x: x[\"Title\"])\n",
    "    return sorted_books\n",
    "\n",
    "def sort_books_by_year():\n",
    "    sorted_books = sorted(dict_of_book.values(), key=lambda x: x[\"Years\"])\n",
    "    return sorted_books\n",
    "\n",
    "sort_books_by_year()"
   ]
  },
  {
   "cell_type": "markdown",
   "metadata": {
    "id": "KiaFO8rdiv4u"
   },
   "source": [
    "#### Q8: Create a function to bulk update genres of books using list comprehension. and test it."
   ]
  },
  {
   "cell_type": "code",
   "execution_count": 206,
   "metadata": {
    "id": "AbvXyE96UhVt"
   },
   "outputs": [
    {
     "name": "stdout",
     "output_type": "stream",
     "text": [
      "{1: {'Title': \"Harry Potter and the Sorcerer's Stone\", 'Author': 'J.K. Rowling', 'Years': '1997', 'Genres': 'newwww'}, 2: {'Title': 'To Kill a Mockingbird', 'Author': 'Harper Lee', 'Years': '1960', 'Genres': 'newwww'}, 3: {'Title': 'The Great Gatsby', 'Author': 'F. Scott Fitzgerald', 'Years': '1925', 'Genres': 'newwww'}, 4: {'Title': '1984', 'Author': 'George Orwell', 'Years': '1949', 'Genres': 'newwww'}, 5: {'Title': 'The Catcher in the Rye', 'Author': 'J.D. Salinger', 'Years': '1951', 'Genres': 'newwww'}}\n"
     ]
    }
   ],
   "source": [
    "def bulk_update_genres(dict_of_book, new_genre):\n",
    "     for book_info in dict_of_book.values():\n",
    "        book_info['Genres'] = new_genre\n",
    "\n",
    "\n",
    "new_genre = \"newwww\"\n",
    "bulk_update_genres(dict_of_book, new_genre)\n",
    "print(dict_of_book)\n",
    "\n"
   ]
  },
  {
   "cell_type": "markdown",
   "metadata": {
    "id": "ZWkmOUNgi6V_"
   },
   "source": [
    "#### Q9: Implement a function to generate a report summarizing the library's statistics, including the total number of books, the number of books by each author, the number of books in each genre, and the oldest and newest books. and test it."
   ]
  },
  {
   "cell_type": "code",
   "execution_count": 40,
   "metadata": {
    "id": "Okjlb9pTUloe"
   },
   "outputs": [],
   "source": [
    "def generate_library_report(dict_of_book):\n",
    "    total_books = len(dict_of_book)\n",
    "    author_counts = {}\n",
    "    for book_info in dict_of_book.values():\n",
    "        author = book_info[\"Author\"]\n",
    "        if author in author_counts:\n",
    "            author_counts[author] += 1\n",
    "        else:\n",
    "            author_counts[author] = 1\n",
    "\n",
    "    genre_counts = {}\n",
    "    for book_info in dict_of_book.values():\n",
    "        genres = book_info[\"Genres\"].split(\", \")\n",
    "        for genre in genres:\n",
    "            if genre in genre_counts:\n",
    "                genre_counts[genre] += 1\n",
    "            else:\n",
    "                genre_counts[genre] = 1\n",
    "\n",
    "    publication_years = [int(book_info[\"Years\"]) for book_info in dict_of_book.values()]\n",
    "    oldest_book = min(publication_years)\n",
    "    newest_book = max(publication_years)\n",
    "\n",
    "    "
   ]
  }
 ],
 "metadata": {
  "colab": {
   "provenance": []
  },
  "kernelspec": {
   "display_name": "Python 3 (ipykernel)",
   "language": "python",
   "name": "python3"
  },
  "language_info": {
   "codemirror_mode": {
    "name": "ipython",
    "version": 3
   },
   "file_extension": ".py",
   "mimetype": "text/x-python",
   "name": "python",
   "nbconvert_exporter": "python",
   "pygments_lexer": "ipython3",
   "version": "3.12.4"
  }
 },
 "nbformat": 4,
 "nbformat_minor": 4
}
